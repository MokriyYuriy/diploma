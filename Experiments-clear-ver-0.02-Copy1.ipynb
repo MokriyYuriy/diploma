{
 "cells": [
  {
   "cell_type": "code",
   "execution_count": 1,
   "metadata": {
    "collapsed": true
   },
   "outputs": [],
   "source": [
    "import numpy as np\n",
    "import torch\n",
    "import torch.nn as nn\n",
    "import torch.nn.functional as F\n",
    "import torchvision.datasets as datasets\n",
    "import torchvision.transforms as transforms\n",
    "from torch.autograd import Variable\n",
    "import torch.optim as optim\n",
    "import itertools"
   ]
  },
  {
   "cell_type": "code",
   "execution_count": 2,
   "metadata": {
    "collapsed": false
   },
   "outputs": [],
   "source": [
    "from lib.utils import split_file_into_two\n",
    "\n",
    "split_file_into_two(\n",
    "    'data/he-pron-wiktionary.txt', \n",
    "    'data/train-he-pron-wiktionary.txt', \n",
    "    'data/test-he-pron-wiktionary.txt', \n",
    "    test_size=0.3\n",
    ")"
   ]
  },
  {
   "cell_type": "code",
   "execution_count": 3,
   "metadata": {
    "collapsed": true
   },
   "outputs": [],
   "source": [
    "TRAIN_FILE = 'data/train-he-pron-wiktionary.txt'\n",
    "TEST_FILE = 'data/test-he-pron-wiktionary.txt'"
   ]
  },
  {
   "cell_type": "code",
   "execution_count": 4,
   "metadata": {
    "collapsed": true
   },
   "outputs": [],
   "source": [
    "from lib.utils import Alphabet\n",
    "\n",
    "\n",
    "he = Alphabet()\n",
    "en = Alphabet()"
   ]
  },
  {
   "cell_type": "code",
   "execution_count": 5,
   "metadata": {
    "collapsed": false
   },
   "outputs": [],
   "source": [
    "from lib.utils import load_pair_dataset\n",
    "\n",
    "X, Y = load_pair_dataset(TRAIN_FILE, he, en)"
   ]
  },
  {
   "cell_type": "code",
   "execution_count": 6,
   "metadata": {
    "collapsed": true
   },
   "outputs": [],
   "source": [
    "from sklearn.model_selection import train_test_split\n",
    "\n",
    "train_X, val_single_X, train_Y, val_single_Y = train_test_split(X, Y, test_size=0.8, random_state=42)\n",
    "val_X, single_X, val_Y, single_Y = train_test_split(val_single_X, val_single_Y, test_size=0.85, random_state=42)"
   ]
  },
  {
   "cell_type": "code",
   "execution_count": 7,
   "metadata": {
    "collapsed": false
   },
   "outputs": [],
   "source": [
    "from lib.models import SimpleGRUSupervisedSeq2Seq\n",
    "\n",
    "model = SimpleGRUSupervisedSeq2Seq(he, en, 65, 256)\n",
    "opt = optim.Adam(model.parameters(), lr=1e-3)"
   ]
  },
  {
   "cell_type": "code",
   "execution_count": 8,
   "metadata": {
    "collapsed": true
   },
   "outputs": [],
   "source": [
    "val_src_words = [he.index2letter(x, with_start_end=False) for x in val_X]\n",
    "val_trg_words = [en.index2letter(y, with_start_end=False) for y in val_Y]"
   ]
  },
  {
   "cell_type": "code",
   "execution_count": 9,
   "metadata": {
    "collapsed": false
   },
   "outputs": [],
   "source": [
    "HE_GENERATOR_CHECKPOINTS = './checkpoints/he_generators_checkpoints'\n",
    "\n",
    "! mkdir -p {HE_GENERATOR_CHECKPOINTS}"
   ]
  },
  {
   "cell_type": "code",
   "execution_count": 10,
   "metadata": {
    "collapsed": false
   },
   "outputs": [
    {
     "name": "stdout",
     "output_type": "stream",
     "text": [
      "epoch: 0 iter: 4 loss: 1.3346859925436974\n",
      "epoch: 0 iter: 9 loss: 1.9718228925061139\n",
      "epoch: 0 iter: 14 loss: 2.297269074638102\n",
      "epoch: 0 iter: 19 loss: 2.4181559898462184\n",
      "epoch: 0 iter: 24 loss: 2.4675153013372952\n",
      "epoch: 0 iter: 29 loss: 2.4286769315309\n"
     ]
    },
    {
     "name": "stderr",
     "output_type": "stream",
     "text": [
      "Widget Javascript not detected.  It may not be installed properly. Did you enable the widgetsnbextension? If not, then run \"jupyter nbextension enable --py --sys-prefix widgetsnbextension\"\n",
      "/home/yury/anaconda3/lib/python3.5/site-packages/nltk/translate/bleu_score.py:472: UserWarning: \n",
      "Corpus/Sentence contains 0 counts of 2-gram overlaps.\n",
      "BLEU scores might be undesirable; use SmoothingFunction().\n",
      "  warnings.warn(_msg)\n",
      "/home/yury/anaconda3/lib/python3.5/site-packages/nltk/translate/bleu_score.py:472: UserWarning: \n",
      "Corpus/Sentence contains 0 counts of 4-gram overlaps.\n",
      "BLEU scores might be undesirable; use SmoothingFunction().\n",
      "  warnings.warn(_msg)\n",
      "/home/yury/anaconda3/lib/python3.5/site-packages/nltk/translate/bleu_score.py:472: UserWarning: \n",
      "Corpus/Sentence contains 0 counts of 3-gram overlaps.\n",
      "BLEU scores might be undesirable; use SmoothingFunction().\n",
      "  warnings.warn(_msg)\n"
     ]
    },
    {
     "name": "stdout",
     "output_type": "stream",
     "text": [
      "\n",
      "epoch: 0 val_score: 0.6143066873067135 time: 17.012142181396484\n",
      "epoch: 1 iter: 4 loss: 2.3562851676747596\n",
      "epoch: 1 iter: 9 loss: 2.266869288866778\n",
      "epoch: 1 iter: 14 loss: 2.148956287760393\n",
      "epoch: 1 iter: 19 loss: 2.040578934973147\n",
      "epoch: 1 iter: 24 loss: 1.9324265433328565\n",
      "epoch: 1 iter: 29 loss: 1.8245586345128135\n"
     ]
    },
    {
     "name": "stderr",
     "output_type": "stream",
     "text": [
      "Widget Javascript not detected.  It may not be installed properly. Did you enable the widgetsnbextension? If not, then run \"jupyter nbextension enable --py --sys-prefix widgetsnbextension\"\n"
     ]
    },
    {
     "name": "stdout",
     "output_type": "stream",
     "text": [
      "\n",
      "epoch: 1 val_score: 0.5998235442923345 time: 19.32804846763611\n",
      "epoch: 2 iter: 4 loss: 1.6907895577647123\n",
      "epoch: 2 iter: 9 loss: 1.5734793256867277\n",
      "epoch: 2 iter: 14 loss: 1.4857802590058238\n",
      "epoch: 2 iter: 19 loss: 1.3500058039039868\n",
      "epoch: 2 iter: 24 loss: 1.2497571455618104\n",
      "epoch: 2 iter: 29 loss: 1.1892788952462408\n"
     ]
    },
    {
     "name": "stderr",
     "output_type": "stream",
     "text": [
      "Widget Javascript not detected.  It may not be installed properly. Did you enable the widgetsnbextension? If not, then run \"jupyter nbextension enable --py --sys-prefix widgetsnbextension\"\n"
     ]
    },
    {
     "name": "stdout",
     "output_type": "stream",
     "text": [
      "\n",
      "epoch: 2 val_score: 0.6429489637176095 time: 20.840585470199585\n",
      "epoch: 3 iter: 4 loss: 1.082006394977475\n",
      "epoch: 3 iter: 9 loss: 0.9906909244479422\n",
      "epoch: 3 iter: 14 loss: 0.9173344862236215\n",
      "epoch: 3 iter: 19 loss: 0.8682639059548988\n",
      "epoch: 3 iter: 24 loss: 0.7921729618370519\n",
      "epoch: 3 iter: 29 loss: 0.7248490907159528\n"
     ]
    },
    {
     "name": "stderr",
     "output_type": "stream",
     "text": [
      "Widget Javascript not detected.  It may not be installed properly. Did you enable the widgetsnbextension? If not, then run \"jupyter nbextension enable --py --sys-prefix widgetsnbextension\"\n"
     ]
    },
    {
     "name": "stdout",
     "output_type": "stream",
     "text": [
      "\n",
      "epoch: 3 val_score: 0.7390385163099678 time: 17.222690105438232\n",
      "epoch: 4 iter: 4 loss: 0.6276286919513622\n",
      "epoch: 4 iter: 9 loss: 0.5868373981435675\n",
      "epoch: 4 iter: 14 loss: 0.5363700061192611\n",
      "epoch: 4 iter: 19 loss: 0.5134208062031547\n",
      "epoch: 4 iter: 24 loss: 0.5143241805921597\n",
      "epoch: 4 iter: 29 loss: 0.483628120917357\n"
     ]
    },
    {
     "name": "stderr",
     "output_type": "stream",
     "text": [
      "Widget Javascript not detected.  It may not be installed properly. Did you enable the widgetsnbextension? If not, then run \"jupyter nbextension enable --py --sys-prefix widgetsnbextension\"\n"
     ]
    },
    {
     "name": "stdout",
     "output_type": "stream",
     "text": [
      "\n",
      "epoch: 4 val_score: 0.8169762512458367 time: 20.010468006134033\n",
      "epoch: 5 iter: 4 loss: 0.4749239948260459\n",
      "epoch: 5 iter: 9 loss: 0.4307114473287953\n",
      "epoch: 5 iter: 14 loss: 0.3980397546921679\n",
      "epoch: 5 iter: 19 loss: 0.36170489944994777\n",
      "epoch: 5 iter: 24 loss: 0.3335760578376433\n",
      "epoch: 5 iter: 29 loss: 0.3473637018428036\n"
     ]
    },
    {
     "name": "stderr",
     "output_type": "stream",
     "text": [
      "Widget Javascript not detected.  It may not be installed properly. Did you enable the widgetsnbextension? If not, then run \"jupyter nbextension enable --py --sys-prefix widgetsnbextension\"\n"
     ]
    },
    {
     "name": "stdout",
     "output_type": "stream",
     "text": [
      "\n",
      "epoch: 5 val_score: 0.8424275443978427 time: 22.116737365722656\n",
      "epoch: 6 iter: 4 loss: 0.32703710506662637\n",
      "epoch: 6 iter: 9 loss: 0.3090136063476001\n",
      "epoch: 6 iter: 14 loss: 0.29759025450935245\n",
      "epoch: 6 iter: 19 loss: 0.3057330496025056\n",
      "epoch: 6 iter: 24 loss: 0.29910094730695586\n",
      "epoch: 6 iter: 29 loss: 0.299316227049155\n"
     ]
    },
    {
     "name": "stderr",
     "output_type": "stream",
     "text": [
      "Widget Javascript not detected.  It may not be installed properly. Did you enable the widgetsnbextension? If not, then run \"jupyter nbextension enable --py --sys-prefix widgetsnbextension\"\n"
     ]
    },
    {
     "name": "stdout",
     "output_type": "stream",
     "text": [
      "\n",
      "epoch: 6 val_score: 0.8524881977636152 time: 21.40464997291565\n",
      "epoch: 7 iter: 4 loss: 0.2874946476196805\n",
      "epoch: 7 iter: 9 loss: 0.27310137205266516\n",
      "epoch: 7 iter: 14 loss: 0.28144452908700346\n",
      "epoch: 7 iter: 19 loss: 0.26137145849365867\n",
      "epoch: 7 iter: 24 loss: 0.28422275992778506\n",
      "epoch: 7 iter: 29 loss: 0.2649027725308757\n"
     ]
    },
    {
     "name": "stderr",
     "output_type": "stream",
     "text": [
      "Widget Javascript not detected.  It may not be installed properly. Did you enable the widgetsnbextension? If not, then run \"jupyter nbextension enable --py --sys-prefix widgetsnbextension\"\n"
     ]
    },
    {
     "name": "stdout",
     "output_type": "stream",
     "text": [
      "\n",
      "epoch: 7 val_score: 0.8531493476878835 time: 17.761500120162964\n",
      "epoch: 8 iter: 4 loss: 0.2343357197779371\n",
      "epoch: 8 iter: 9 loss: 0.2211774026387571\n",
      "epoch: 8 iter: 14 loss: 0.22716117297073338\n",
      "epoch: 8 iter: 19 loss: 0.2152888489005443\n",
      "epoch: 8 iter: 24 loss: 0.21233996161988453\n",
      "epoch: 8 iter: 29 loss: 0.20397565435207318\n"
     ]
    },
    {
     "name": "stderr",
     "output_type": "stream",
     "text": [
      "Widget Javascript not detected.  It may not be installed properly. Did you enable the widgetsnbextension? If not, then run \"jupyter nbextension enable --py --sys-prefix widgetsnbextension\"\n"
     ]
    },
    {
     "name": "stdout",
     "output_type": "stream",
     "text": [
      "\n",
      "epoch: 8 val_score: 0.8619276977671353 time: 18.387447595596313\n",
      "epoch: 9 iter: 4 loss: 0.18790985181092207\n",
      "epoch: 9 iter: 9 loss: 0.186331383270875\n",
      "epoch: 9 iter: 14 loss: 0.17523797258422505\n",
      "epoch: 9 iter: 19 loss: 0.19546660698292534\n",
      "epoch: 9 iter: 24 loss: 0.2135245271568358\n",
      "epoch: 9 iter: 29 loss: 0.18737732624509032\n"
     ]
    },
    {
     "name": "stderr",
     "output_type": "stream",
     "text": [
      "Widget Javascript not detected.  It may not be installed properly. Did you enable the widgetsnbextension? If not, then run \"jupyter nbextension enable --py --sys-prefix widgetsnbextension\"\n"
     ]
    },
    {
     "name": "stdout",
     "output_type": "stream",
     "text": [
      "\n",
      "epoch: 9 val_score: 0.8521432126592983 time: 17.774501085281372\n",
      "epoch: 10 iter: 4 loss: 0.20556806874931519\n",
      "epoch: 10 iter: 9 loss: 0.1854284183677792\n",
      "epoch: 10 iter: 14 loss: 0.18659030061166204\n",
      "epoch: 10 iter: 19 loss: 0.20121493838546092\n",
      "epoch: 10 iter: 24 loss: 0.1951636281848889\n",
      "epoch: 10 iter: 29 loss: 0.18715009953595238\n"
     ]
    },
    {
     "name": "stderr",
     "output_type": "stream",
     "text": [
      "Widget Javascript not detected.  It may not be installed properly. Did you enable the widgetsnbextension? If not, then run \"jupyter nbextension enable --py --sys-prefix widgetsnbextension\"\n"
     ]
    },
    {
     "name": "stdout",
     "output_type": "stream",
     "text": [
      "\n",
      "epoch: 10 val_score: 0.8427501854360808 time: 16.98882293701172\n",
      "epoch: 11 iter: 4 loss: 0.172860702412816\n",
      "epoch: 11 iter: 9 loss: 0.1712343601056772\n",
      "epoch: 11 iter: 14 loss: 0.17338004898680964\n",
      "epoch: 11 iter: 19 loss: 0.17703076431209452\n",
      "epoch: 11 iter: 24 loss: 0.17245841013892949\n",
      "epoch: 11 iter: 29 loss: 0.19608140424983217\n"
     ]
    },
    {
     "name": "stderr",
     "output_type": "stream",
     "text": [
      "Widget Javascript not detected.  It may not be installed properly. Did you enable the widgetsnbextension? If not, then run \"jupyter nbextension enable --py --sys-prefix widgetsnbextension\"\n"
     ]
    },
    {
     "name": "stdout",
     "output_type": "stream",
     "text": [
      "\n",
      "epoch: 11 val_score: 0.8598090298410276 time: 16.53945231437683\n",
      "epoch: 12 iter: 4 loss: 0.18887970847450758\n",
      "epoch: 12 iter: 9 loss: 0.16582351361109288\n",
      "epoch: 12 iter: 14 loss: 0.15423064888743065\n",
      "epoch: 12 iter: 19 loss: 0.1539745215813342\n",
      "epoch: 12 iter: 24 loss: 0.15356014465941903\n",
      "epoch: 12 iter: 29 loss: 0.16172901710848692\n"
     ]
    },
    {
     "name": "stderr",
     "output_type": "stream",
     "text": [
      "Widget Javascript not detected.  It may not be installed properly. Did you enable the widgetsnbextension? If not, then run \"jupyter nbextension enable --py --sys-prefix widgetsnbextension\"\n"
     ]
    },
    {
     "name": "stdout",
     "output_type": "stream",
     "text": [
      "\n",
      "epoch: 12 val_score: 0.8736158259943589 time: 16.93425440788269\n",
      "epoch: 13 iter: 4 loss: 0.14205365109771392\n",
      "epoch: 13 iter: 9 loss: 0.14570094451597854\n",
      "epoch: 13 iter: 14 loss: 0.1399663047014335\n",
      "epoch: 13 iter: 19 loss: 0.12409384534438037\n",
      "epoch: 13 iter: 24 loss: 0.11082517435033061\n",
      "epoch: 13 iter: 29 loss: 0.12135112489998555\n"
     ]
    },
    {
     "name": "stderr",
     "output_type": "stream",
     "text": [
      "Widget Javascript not detected.  It may not be installed properly. Did you enable the widgetsnbextension? If not, then run \"jupyter nbextension enable --py --sys-prefix widgetsnbextension\"\n"
     ]
    },
    {
     "name": "stdout",
     "output_type": "stream",
     "text": [
      "\n",
      "epoch: 13 val_score: 0.8684223047176375 time: 17.409035444259644\n",
      "epoch: 14 iter: 4 loss: 0.11022509427834339\n",
      "epoch: 14 iter: 9 loss: 0.11644585952678967\n",
      "epoch: 14 iter: 14 loss: 0.11452644041591982\n",
      "epoch: 14 iter: 19 loss: 0.10926388416367584\n",
      "epoch: 14 iter: 24 loss: 0.10838426624460384\n",
      "epoch: 14 iter: 29 loss: 0.10049567803054454\n"
     ]
    },
    {
     "name": "stderr",
     "output_type": "stream",
     "text": [
      "Widget Javascript not detected.  It may not be installed properly. Did you enable the widgetsnbextension? If not, then run \"jupyter nbextension enable --py --sys-prefix widgetsnbextension\"\n"
     ]
    },
    {
     "name": "stdout",
     "output_type": "stream",
     "text": [
      "\n",
      "epoch: 14 val_score: 0.8820249969781627 time: 16.86269497871399\n",
      "epoch: 15 iter: 4 loss: 0.0933624327677148\n",
      "epoch: 15 iter: 9 loss: 0.10141141702750445\n",
      "epoch: 15 iter: 14 loss: 0.10427418133453917\n",
      "epoch: 15 iter: 19 loss: 0.10172892285196565\n",
      "epoch: 15 iter: 24 loss: 0.09398891441729407\n",
      "epoch: 15 iter: 29 loss: 0.09591148165190423\n"
     ]
    },
    {
     "name": "stderr",
     "output_type": "stream",
     "text": [
      "Widget Javascript not detected.  It may not be installed properly. Did you enable the widgetsnbextension? If not, then run \"jupyter nbextension enable --py --sys-prefix widgetsnbextension\"\n"
     ]
    },
    {
     "name": "stdout",
     "output_type": "stream",
     "text": [
      "\n",
      "epoch: 15 val_score: 0.8798469376494075 time: 19.2204487323761\n",
      "epoch: 16 iter: 4 loss: 0.09303081941628846\n",
      "epoch: 16 iter: 9 loss: 0.0861036995691437\n",
      "epoch: 16 iter: 14 loss: 0.08314037301062326\n",
      "epoch: 16 iter: 19 loss: 0.09323637819793087\n",
      "epoch: 16 iter: 24 loss: 0.09101960212919201\n",
      "epoch: 16 iter: 29 loss: 0.08196266031352906\n"
     ]
    },
    {
     "name": "stderr",
     "output_type": "stream",
     "text": [
      "Widget Javascript not detected.  It may not be installed properly. Did you enable the widgetsnbextension? If not, then run \"jupyter nbextension enable --py --sys-prefix widgetsnbextension\"\n"
     ]
    },
    {
     "name": "stdout",
     "output_type": "stream",
     "text": [
      "\n",
      "epoch: 16 val_score: 0.8697150436626074 time: 23.101334810256958\n",
      "epoch: 17 iter: 4 loss: 0.07422633539171285\n",
      "epoch: 17 iter: 9 loss: 0.06546642168198287\n",
      "epoch: 17 iter: 14 loss: 0.06589640776767126\n",
      "epoch: 17 iter: 19 loss: 0.07039079970649839\n",
      "epoch: 17 iter: 24 loss: 0.09179329029329675\n",
      "epoch: 17 iter: 29 loss: 0.09262089561860305\n"
     ]
    },
    {
     "name": "stderr",
     "output_type": "stream",
     "text": [
      "Widget Javascript not detected.  It may not be installed properly. Did you enable the widgetsnbextension? If not, then run \"jupyter nbextension enable --py --sys-prefix widgetsnbextension\"\n"
     ]
    },
    {
     "name": "stdout",
     "output_type": "stream",
     "text": [
      "\n",
      "epoch: 17 val_score: 0.8745011249874425 time: 19.566139459609985\n",
      "epoch: 18 iter: 4 loss: 0.08314920532491947\n",
      "epoch: 18 iter: 9 loss: 0.07625175190646333\n",
      "epoch: 18 iter: 14 loss: 0.08241461695643916\n",
      "epoch: 18 iter: 19 loss: 0.07042305447318267\n",
      "epoch: 18 iter: 24 loss: 0.07790831851911387\n",
      "epoch: 18 iter: 29 loss: 0.06805684283266997\n"
     ]
    },
    {
     "name": "stderr",
     "output_type": "stream",
     "text": [
      "Widget Javascript not detected.  It may not be installed properly. Did you enable the widgetsnbextension? If not, then run \"jupyter nbextension enable --py --sys-prefix widgetsnbextension\"\n"
     ]
    },
    {
     "name": "stdout",
     "output_type": "stream",
     "text": [
      "\n",
      "epoch: 18 val_score: 0.8795945056969183 time: 20.41543960571289\n",
      "epoch: 19 iter: 4 loss: 0.07023485852885661\n",
      "epoch: 19 iter: 9 loss: 0.06266780338185265\n",
      "epoch: 19 iter: 14 loss: 0.056787472592954365\n",
      "epoch: 19 iter: 19 loss: 0.054045857784114165\n",
      "epoch: 19 iter: 24 loss: 0.05261883808671238\n",
      "epoch: 19 iter: 29 loss: 0.06166194390132336\n"
     ]
    },
    {
     "name": "stderr",
     "output_type": "stream",
     "text": [
      "Widget Javascript not detected.  It may not be installed properly. Did you enable the widgetsnbextension? If not, then run \"jupyter nbextension enable --py --sys-prefix widgetsnbextension\"\n"
     ]
    },
    {
     "name": "stdout",
     "output_type": "stream",
     "text": [
      "\n",
      "epoch: 19 val_score: 0.8864896906239248 time: 21.212124586105347\n",
      "epoch: 20 iter: 4 loss: 0.0597299218600795\n",
      "epoch: 20 iter: 9 loss: 0.05445573401297219\n",
      "epoch: 20 iter: 14 loss: 0.055065412899159456\n",
      "epoch: 20 iter: 19 loss: 0.05878420115918981\n",
      "epoch: 20 iter: 24 loss: 0.0632072601514441\n",
      "epoch: 20 iter: 29 loss: 0.06582375148333273\n"
     ]
    },
    {
     "name": "stderr",
     "output_type": "stream",
     "text": [
      "Widget Javascript not detected.  It may not be installed properly. Did you enable the widgetsnbextension? If not, then run \"jupyter nbextension enable --py --sys-prefix widgetsnbextension\"\n"
     ]
    },
    {
     "name": "stdout",
     "output_type": "stream",
     "text": [
      "\n",
      "epoch: 20 val_score: 0.8855564108467219 time: 18.592735528945923\n",
      "epoch: 21 iter: 4 loss: 0.07011103860366699\n",
      "epoch: 21 iter: 9 loss: 0.06342688280379849\n",
      "epoch: 21 iter: 14 loss: 0.06074022246293251\n",
      "epoch: 21 iter: 19 loss: 0.055746990161864074\n",
      "epoch: 21 iter: 24 loss: 0.05435711913676687\n",
      "epoch: 21 iter: 29 loss: 0.05613395620153063\n"
     ]
    },
    {
     "name": "stderr",
     "output_type": "stream",
     "text": [
      "Widget Javascript not detected.  It may not be installed properly. Did you enable the widgetsnbextension? If not, then run \"jupyter nbextension enable --py --sys-prefix widgetsnbextension\"\n"
     ]
    },
    {
     "name": "stdout",
     "output_type": "stream",
     "text": [
      "\n",
      "epoch: 21 val_score: 0.8822883096534071 time: 19.949179649353027\n",
      "epoch: 22 iter: 4 loss: 0.05300345854635761\n",
      "epoch: 22 iter: 9 loss: 0.056335493055966\n",
      "epoch: 22 iter: 14 loss: 0.05594361900824781\n",
      "epoch: 22 iter: 19 loss: 0.04973048067813541\n",
      "epoch: 22 iter: 24 loss: 0.04817061152304606\n",
      "epoch: 22 iter: 29 loss: 0.05297466301685963\n"
     ]
    },
    {
     "name": "stderr",
     "output_type": "stream",
     "text": [
      "Widget Javascript not detected.  It may not be installed properly. Did you enable the widgetsnbextension? If not, then run \"jupyter nbextension enable --py --sys-prefix widgetsnbextension\"\n"
     ]
    },
    {
     "name": "stdout",
     "output_type": "stream",
     "text": [
      "\n",
      "epoch: 22 val_score: 0.8766622499244584 time: 18.43692684173584\n",
      "epoch: 23 iter: 4 loss: 0.04782627146814139\n",
      "epoch: 23 iter: 9 loss: 0.04847353558242379\n",
      "epoch: 23 iter: 14 loss: 0.05184079630232533\n",
      "epoch: 23 iter: 19 loss: 0.054589429246492585\n",
      "epoch: 23 iter: 24 loss: 0.05432916464866892\n",
      "epoch: 23 iter: 29 loss: 0.05042847690319823\n"
     ]
    },
    {
     "name": "stderr",
     "output_type": "stream",
     "text": [
      "Widget Javascript not detected.  It may not be installed properly. Did you enable the widgetsnbextension? If not, then run \"jupyter nbextension enable --py --sys-prefix widgetsnbextension\"\n"
     ]
    },
    {
     "name": "stdout",
     "output_type": "stream",
     "text": [
      "\n",
      "epoch: 23 val_score: 0.8745691814057533 time: 19.79112696647644\n",
      "epoch: 24 iter: 4 loss: 0.05012104033582311\n",
      "epoch: 24 iter: 9 loss: 0.05983808087402182\n",
      "epoch: 24 iter: 14 loss: 0.05433323811643371\n",
      "epoch: 24 iter: 19 loss: 0.06780970312776728\n",
      "epoch: 24 iter: 24 loss: 0.12647812632246763\n",
      "epoch: 24 iter: 29 loss: 0.14463591289552272\n"
     ]
    },
    {
     "name": "stderr",
     "output_type": "stream",
     "text": [
      "Widget Javascript not detected.  It may not be installed properly. Did you enable the widgetsnbextension? If not, then run \"jupyter nbextension enable --py --sys-prefix widgetsnbextension\"\n"
     ]
    },
    {
     "name": "stdout",
     "output_type": "stream",
     "text": [
      "\n",
      "epoch: 24 val_score: 0.8162691775399161 time: 19.16445755958557\n",
      "epoch: 25 iter: 4 loss: 0.1690364998597018\n",
      "epoch: 25 iter: 9 loss: 0.18616987110833078\n",
      "epoch: 25 iter: 14 loss: 0.18699552335393096\n",
      "epoch: 25 iter: 19 loss: 0.2190072554756436\n",
      "epoch: 25 iter: 24 loss: 0.20128255904659312\n",
      "epoch: 25 iter: 29 loss: 0.201387875213222\n"
     ]
    },
    {
     "name": "stderr",
     "output_type": "stream",
     "text": [
      "Widget Javascript not detected.  It may not be installed properly. Did you enable the widgetsnbextension? If not, then run \"jupyter nbextension enable --py --sys-prefix widgetsnbextension\"\n"
     ]
    },
    {
     "name": "stdout",
     "output_type": "stream",
     "text": [
      "\n",
      "epoch: 25 val_score: 0.8471117881935597 time: 20.44273066520691\n",
      "epoch: 26 iter: 4 loss: 0.16570608863949374\n",
      "epoch: 26 iter: 9 loss: 0.13511493790481413\n",
      "epoch: 26 iter: 14 loss: 0.1408242796631535\n",
      "epoch: 26 iter: 19 loss: 0.11986437512145913\n",
      "epoch: 26 iter: 24 loss: 0.11008286300862778\n",
      "epoch: 26 iter: 29 loss: 0.10484076535410551\n"
     ]
    },
    {
     "name": "stderr",
     "output_type": "stream",
     "text": [
      "Widget Javascript not detected.  It may not be installed properly. Did you enable the widgetsnbextension? If not, then run \"jupyter nbextension enable --py --sys-prefix widgetsnbextension\"\n"
     ]
    },
    {
     "name": "stdout",
     "output_type": "stream",
     "text": [
      "\n",
      "epoch: 26 val_score: 0.8712336129355943 time: 19.066054105758667\n",
      "epoch: 27 iter: 4 loss: 0.10666924460948213\n",
      "epoch: 27 iter: 9 loss: 0.10871441668875402\n",
      "epoch: 27 iter: 14 loss: 0.11025149882735408\n",
      "epoch: 27 iter: 19 loss: 0.09757921901563589\n",
      "epoch: 27 iter: 24 loss: 0.09604290043778928\n",
      "epoch: 27 iter: 29 loss: 0.09899977781531244\n"
     ]
    },
    {
     "name": "stderr",
     "output_type": "stream",
     "text": [
      "Widget Javascript not detected.  It may not be installed properly. Did you enable the widgetsnbextension? If not, then run \"jupyter nbextension enable --py --sys-prefix widgetsnbextension\"\n"
     ]
    },
    {
     "name": "stdout",
     "output_type": "stream",
     "text": [
      "\n",
      "epoch: 27 val_score: 0.8571747852851563 time: 18.632996320724487\n",
      "epoch: 28 iter: 4 loss: 0.08808884535724905\n",
      "epoch: 28 iter: 9 loss: 0.07684516640105989\n",
      "epoch: 28 iter: 14 loss: 0.0852334044574398\n",
      "epoch: 28 iter: 19 loss: 0.08432113997525567\n",
      "epoch: 28 iter: 24 loss: 0.07431362872173947\n",
      "epoch: 28 iter: 29 loss: 0.0698215233704071\n"
     ]
    },
    {
     "name": "stderr",
     "output_type": "stream",
     "text": [
      "Widget Javascript not detected.  It may not be installed properly. Did you enable the widgetsnbextension? If not, then run \"jupyter nbextension enable --py --sys-prefix widgetsnbextension\"\n"
     ]
    },
    {
     "name": "stdout",
     "output_type": "stream",
     "text": [
      "\n",
      "epoch: 28 val_score: 0.8758459973422538 time: 20.12304997444153\n",
      "epoch: 29 iter: 4 loss: 0.05352125897499866\n",
      "epoch: 29 iter: 9 loss: 0.057762820821650226\n",
      "epoch: 29 iter: 14 loss: 0.049612251502050495\n",
      "epoch: 29 iter: 19 loss: 0.04603245136222388\n",
      "epoch: 29 iter: 24 loss: 0.04473251560093111\n",
      "epoch: 29 iter: 29 loss: 0.050305631435042825\n"
     ]
    },
    {
     "name": "stderr",
     "output_type": "stream",
     "text": [
      "Widget Javascript not detected.  It may not be installed properly. Did you enable the widgetsnbextension? If not, then run \"jupyter nbextension enable --py --sys-prefix widgetsnbextension\"\n"
     ]
    },
    {
     "name": "stdout",
     "output_type": "stream",
     "text": [
      "\n",
      "epoch: 29 val_score: 0.8762013511240251 time: 21.839410305023193\n"
     ]
    }
   ],
   "source": [
    "from lib.trainer import train_generator\n",
    "\n",
    "train_generator(\n",
    "    model, opt, en, \n",
    "    train_X, train_Y, \n",
    "    val_src_words, val_trg_words, \n",
    "    checkpoints_folder=HE_GENERATOR_CHECKPOINTS, \n",
    "    metrics_compute_freq=5, n_epochs=30\n",
    ")"
   ]
  },
  {
   "cell_type": "code",
   "execution_count": 12,
   "metadata": {
    "collapsed": false
   },
   "outputs": [],
   "source": [
    "import os\n",
    "\n",
    "best_score_model = \"state_dict_14_0.8820249969781627.pth\"\n",
    "model.load_state_dict(torch.load(os.path.join(HE_GENERATOR_CHECKPOINTS, best_score_model)))"
   ]
  },
  {
   "cell_type": "code",
   "execution_count": 13,
   "metadata": {
    "collapsed": false
   },
   "outputs": [
    {
     "data": {
      "text/plain": [
       "'ni tsrikh lam nim ton t tim t'"
      ]
     },
     "execution_count": 13,
     "metadata": {},
     "output_type": "execute_result"
    }
   ],
   "source": [
    "model.translate(\"אני צריך להזמין מונית \", with_start_end=False)"
   ]
  },
  {
   "cell_type": "code",
   "execution_count": null,
   "metadata": {
    "collapsed": false
   },
   "outputs": [],
   "source": [
    "from lib.metrics import compute_accuracy\n",
    "\n",
    "#compute_accuracy(model, val_src_words, val_trg_words)"
   ]
  },
  {
   "cell_type": "code",
   "execution_count": 14,
   "metadata": {
    "collapsed": false
   },
   "outputs": [],
   "source": [
    "src_words = [he.index2letter(x, with_start_end=False) for x in train_X[:8000]]\n",
    "trg_words = [en.index2letter(y, with_start_end=False) for y in train_Y[:8000]]"
   ]
  },
  {
   "cell_type": "code",
   "execution_count": 15,
   "metadata": {
    "collapsed": false
   },
   "outputs": [
    {
     "name": "stderr",
     "output_type": "stream",
     "text": [
      "Widget Javascript not detected.  It may not be installed properly. Did you enable the widgetsnbextension? If not, then run \"jupyter nbextension enable --py --sys-prefix widgetsnbextension\"\n",
      "/home/yury/anaconda3/lib/python3.5/site-packages/nltk/translate/bleu_score.py:472: UserWarning: \n",
      "Corpus/Sentence contains 0 counts of 4-gram overlaps.\n",
      "BLEU scores might be undesirable; use SmoothingFunction().\n",
      "  warnings.warn(_msg)\n",
      "/home/yury/anaconda3/lib/python3.5/site-packages/nltk/translate/bleu_score.py:472: UserWarning: \n",
      "Corpus/Sentence contains 0 counts of 3-gram overlaps.\n",
      "BLEU scores might be undesirable; use SmoothingFunction().\n",
      "  warnings.warn(_msg)\n",
      "/home/yury/anaconda3/lib/python3.5/site-packages/nltk/translate/bleu_score.py:472: UserWarning: \n",
      "Corpus/Sentence contains 0 counts of 2-gram overlaps.\n",
      "BLEU scores might be undesirable; use SmoothingFunction().\n",
      "  warnings.warn(_msg)\n"
     ]
    },
    {
     "name": "stdout",
     "output_type": "stream",
     "text": [
      "\n"
     ]
    },
    {
     "data": {
      "text/plain": [
       "0.8820249969781627"
      ]
     },
     "execution_count": 15,
     "metadata": {},
     "output_type": "execute_result"
    }
   ],
   "source": [
    "from lib.metrics import compute_bleu_score\n",
    "\n",
    "compute_bleu_score(model, val_src_words, val_trg_words)"
   ]
  },
  {
   "cell_type": "code",
   "execution_count": null,
   "metadata": {
    "collapsed": false
   },
   "outputs": [],
   "source": [
    "for ru_word, be_word in zip(src_words, trg_words):\n",
    "    print(ru_word, model.translate(ru_word, with_start_end=False), be_word)"
   ]
  },
  {
   "cell_type": "code",
   "execution_count": 16,
   "metadata": {
    "collapsed": false
   },
   "outputs": [],
   "source": [
    "from lib.models import BiLSTMDiscriminator\n",
    "\n",
    "disc = BiLSTMDiscriminator(en, 32, 128)\n",
    "disc_opt = optim.Adam(disc.parameters(), lr=5e-5)"
   ]
  },
  {
   "cell_type": "code",
   "execution_count": 24,
   "metadata": {
    "collapsed": false
   },
   "outputs": [
    {
     "name": "stdout",
     "output_type": "stream",
     "text": [
      "1.326971411705017\n",
      "1.1243849992752075\n",
      "1.216160535812378\n",
      "1.2075817584991455\n",
      "1.313183307647705\n",
      "1.3533127307891846\n",
      "1.2849944829940796\n",
      "1.150315761566162\n",
      "1.1133830547332764\n",
      "1.0920817852020264\n",
      "1.1260046621595368\n",
      "1.1998040676116943\n",
      "1.1257209777832031\n",
      "0.9887277483940125\n",
      "1.1098346710205078\n",
      "1.0364594459533691\n",
      "1.210181474685669\n",
      "1.206236481666565\n",
      "1.0589314699172974\n",
      "1.3024959564208984\n",
      "1.0467264652252197\n",
      "1.170199982722218\n",
      "1.0443423986434937\n",
      "1.1883742809295654\n",
      "1.0689692497253418\n",
      "1.0560312271118164\n",
      "1.0201339721679688\n",
      "1.226714015007019\n",
      "1.2931761741638184\n",
      "1.220949649810791\n",
      "1.1514885425567627\n",
      "1.1608054637908936\n",
      "1.1682259033583755\n",
      "1.2183563709259033\n",
      "1.0659983158111572\n",
      "1.116222620010376\n",
      "1.119957685470581\n",
      "1.088942050933838\n",
      "1.1327602863311768\n",
      "1.0117628574371338\n",
      "1.1385940313339233\n",
      "1.0778934955596924\n",
      "1.0856103897094727\n",
      "1.2057596987441275\n",
      "1.235271692276001\n",
      "1.1090869903564453\n",
      "1.207736611366272\n",
      "1.1369129419326782\n",
      "1.0215330123901367\n",
      "1.223803162574768\n",
      "1.1199064254760742\n",
      "1.3189902305603027\n",
      "1.0294286012649536\n",
      "1.219107747077942\n",
      "1.1564072878581733\n"
     ]
    }
   ],
   "source": [
    "from lib.trainer import train_discriminator\n",
    "\n",
    "\n",
    "train_discriminator(disc, model, disc_opt, single_X, single_Y, n_epochs=5)"
   ]
  },
  {
   "cell_type": "code",
   "execution_count": 23,
   "metadata": {
    "collapsed": false
   },
   "outputs": [],
   "source": [
    "for g in disc_opt.param_groups:\n",
    "    g['lr'] = 1e-4"
   ]
  },
  {
   "cell_type": "code",
   "execution_count": null,
   "metadata": {
    "collapsed": true
   },
   "outputs": [],
   "source": []
  },
  {
   "cell_type": "code",
   "execution_count": null,
   "metadata": {
    "collapsed": true
   },
   "outputs": [],
   "source": []
  }
 ],
 "metadata": {
  "anaconda-cloud": {},
  "kernelspec": {
   "display_name": "Python [conda env:anaconda3]",
   "language": "python",
   "name": "conda-env-anaconda3-py"
  },
  "language_info": {
   "codemirror_mode": {
    "name": "ipython",
    "version": 3
   },
   "file_extension": ".py",
   "mimetype": "text/x-python",
   "name": "python",
   "nbconvert_exporter": "python",
   "pygments_lexer": "ipython3",
   "version": "3.5.2"
  },
  "widgets": {
   "state": {
    "0d9e26f7d3cb4d769743a4e45f1b0dcb": {
     "views": [
      {
       "cell_index": 9
      }
     ]
    },
    "1993088daeeb4a14bd53aa52f466f178": {
     "views": [
      {
       "cell_index": 9
      }
     ]
    },
    "230e53b3f6894b42b5efb9e819abf1ea": {
     "views": [
      {
       "cell_index": 9
      }
     ]
    },
    "251cbfac974e46eda190baa967ea9942": {
     "views": [
      {
       "cell_index": 9
      }
     ]
    },
    "28b4789f43274bea93bb51910979627e": {
     "views": [
      {
       "cell_index": 9
      }
     ]
    },
    "2989d528175c4785a2c564b3b2818a49": {
     "views": [
      {
       "cell_index": 9
      }
     ]
    },
    "2c262c8b2b6d4a9b86f95d00fe99449f": {
     "views": [
      {
       "cell_index": 9
      }
     ]
    },
    "32d97083771d4561ac92f3d90614f72a": {
     "views": [
      {
       "cell_index": 9
      }
     ]
    },
    "349f9a8f03de455eac1ca59d4416ac53": {
     "views": [
      {
       "cell_index": 9
      }
     ]
    },
    "39963aac31ed4c2db2e7e5e915421fd9": {
     "views": [
      {
       "cell_index": 9
      }
     ]
    },
    "495af961f1d14cf7b569edf0d0afeec3": {
     "views": [
      {
       "cell_index": 9
      }
     ]
    },
    "4cfe56c2ab22463181d558ac362e76ac": {
     "views": [
      {
       "cell_index": 9
      }
     ]
    },
    "4ea23e01093c4e249a952a5beeb55007": {
     "views": [
      {
       "cell_index": 9
      }
     ]
    },
    "5b76134d59344a4fb1456f66db6404e9": {
     "views": [
      {
       "cell_index": 9
      }
     ]
    },
    "639d40430e0d4b6fad60f7160c3d24a6": {
     "views": [
      {
       "cell_index": 9
      }
     ]
    },
    "63ecc4d2340b4bcc909136e5eb031195": {
     "views": [
      {
       "cell_index": 9
      }
     ]
    },
    "67e2e459a8274e31aa37d08254913f96": {
     "views": [
      {
       "cell_index": 9
      }
     ]
    },
    "73100213258f4897bce7538ca1bb55d8": {
     "views": [
      {
       "cell_index": 9
      }
     ]
    },
    "745751efff27467d966591017074fd51": {
     "views": [
      {
       "cell_index": 9
      }
     ]
    },
    "7b77b0af5fd64b14a23a2ba34b00b13b": {
     "views": [
      {
       "cell_index": 9
      }
     ]
    },
    "7ee4a3b2f8574c4abd1ad75ce4503a44": {
     "views": [
      {
       "cell_index": 9
      }
     ]
    },
    "843c28b94c7e492498ae0b8a47365510": {
     "views": [
      {
       "cell_index": 9
      }
     ]
    },
    "846a082d6a504a0db20e9d905c7c2fe9": {
     "views": [
      {
       "cell_index": 9
      }
     ]
    },
    "86559669b9c74061aa5a7d64abec05be": {
     "views": [
      {
       "cell_index": 9
      }
     ]
    },
    "8c14eb282a0842c19c0635d3aef51ad4": {
     "views": [
      {
       "cell_index": 9
      }
     ]
    },
    "8dd5cc31ed1249b8abed3db4d41924b5": {
     "views": [
      {
       "cell_index": 9
      }
     ]
    },
    "9094f7367e974ea3af54ea48d3694fc1": {
     "views": [
      {
       "cell_index": 9
      }
     ]
    },
    "92cbdbe0e4e949e89b447fbb8827c579": {
     "views": [
      {
       "cell_index": 9
      }
     ]
    },
    "96b21a6ba5964b7ab5b289017e3744f6": {
     "views": [
      {
       "cell_index": 9
      }
     ]
    },
    "98afb172ae484323923a0ad49455a224": {
     "views": [
      {
       "cell_index": 9
      }
     ]
    },
    "98e90fa81f934ad28df01ad61b7492fa": {
     "views": [
      {
       "cell_index": 9
      }
     ]
    },
    "a14434eb90a642d8b1f2d1658e1697ed": {
     "views": [
      {
       "cell_index": 9
      }
     ]
    },
    "a15bd0a1c5da4ea1ae94abc8977dc6fb": {
     "views": [
      {
       "cell_index": 9
      }
     ]
    },
    "a535ef62291c42c8ba39cdd3549ceb71": {
     "views": [
      {
       "cell_index": 9
      }
     ]
    },
    "a93ed88b0ad849698bd0226f1f8f2a52": {
     "views": [
      {
       "cell_index": 9
      }
     ]
    },
    "a99374dc2cc44d3c811dfeb91a2d5a22": {
     "views": [
      {
       "cell_index": 9
      }
     ]
    },
    "a9c0fb20694c4142930117e343b449fb": {
     "views": [
      {
       "cell_index": 9
      }
     ]
    },
    "b339290abd744f3fbe7f13eda8a2faa1": {
     "views": [
      {
       "cell_index": 9
      }
     ]
    },
    "b93e5a510d8c4bb68e0b75e090637f67": {
     "views": [
      {
       "cell_index": 9
      }
     ]
    },
    "bbe92b89c0024511a4bf507efc5c9900": {
     "views": [
      {
       "cell_index": 9
      }
     ]
    },
    "bc42beb7ae1a44c599bfa23f70690e22": {
     "views": [
      {
       "cell_index": 9
      }
     ]
    },
    "bcb7e08fc4be45fd81df0c96b2b8118e": {
     "views": [
      {
       "cell_index": 9
      }
     ]
    },
    "c201ed20f06540ee8a0c50c969e3b4db": {
     "views": [
      {
       "cell_index": 9
      }
     ]
    },
    "c581fba7045c4be7a422f9f17a213996": {
     "views": [
      {
       "cell_index": 14
      }
     ]
    },
    "c59eb30ef6a8434a9998f76c60c98795": {
     "views": [
      {
       "cell_index": 9
      }
     ]
    },
    "c755475ba5d54e089bab9062d571fbc6": {
     "views": [
      {
       "cell_index": 9
      }
     ]
    },
    "c815c26dade344fb957a3464824fcde7": {
     "views": [
      {
       "cell_index": 9
      }
     ]
    },
    "cb298feb6316486d8549ab65df1ad962": {
     "views": [
      {
       "cell_index": 9
      }
     ]
    },
    "db0c209586fb4321ab5eb4f201d22f3f": {
     "views": [
      {
       "cell_index": 9
      }
     ]
    },
    "e15e20c6e8b647c798d52917a339575d": {
     "views": [
      {
       "cell_index": 9
      }
     ]
    },
    "e1fe53b603154369bc3712eaba6fd960": {
     "views": [
      {
       "cell_index": 9
      }
     ]
    },
    "e39c77cf8e8a4f7b94ead9f98ae8d456": {
     "views": [
      {
       "cell_index": 9
      }
     ]
    },
    "e7994f7083184617b8ec3b45955e74d7": {
     "views": [
      {
       "cell_index": 9
      }
     ]
    },
    "e9ee73337456487d9d35c2b5c317ea23": {
     "views": [
      {
       "cell_index": 9
      }
     ]
    },
    "ecfdded76c9e46a6b4a135135bcd54e1": {
     "views": [
      {
       "cell_index": 9
      }
     ]
    },
    "f3a84bac99214e9d8af4ba5ade2f2107": {
     "views": [
      {
       "cell_index": 9
      }
     ]
    },
    "fb2c0e8d97d64401acee6fe559c19812": {
     "views": [
      {
       "cell_index": 9
      }
     ]
    }
   },
   "version": "1.2.0"
  }
 },
 "nbformat": 4,
 "nbformat_minor": 2
}
