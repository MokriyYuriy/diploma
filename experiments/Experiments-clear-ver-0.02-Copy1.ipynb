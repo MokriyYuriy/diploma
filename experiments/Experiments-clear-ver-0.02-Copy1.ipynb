{
 "cells": [
  {
   "cell_type": "code",
   "execution_count": 1,
   "metadata": {
    "collapsed": true
   },
   "outputs": [],
   "source": [
    "import numpy as np\n",
    "import torch\n",
    "import torch.nn as nn\n",
    "import torch.nn.functional as F\n",
    "import torchvision.datasets as datasets\n",
    "import torchvision.transforms as transforms\n",
    "from torch.autograd import Variable\n",
    "import torch.optim as optim\n",
    "import itertools"
   ]
  },
  {
   "cell_type": "code",
   "execution_count": 2,
   "metadata": {
    "collapsed": false
   },
   "outputs": [],
   "source": [
    "from lib.utils import split_file_into_two\n",
    "\n",
    "split_file_into_two(\n",
    "    'data/he-pron-wiktionary.txt', \n",
    "    'data/train-he-pron-wiktionary.txt', \n",
    "    'data/test-he-pron-wiktionary.txt', \n",
    "    test_size=0.3\n",
    ")"
   ]
  },
  {
   "cell_type": "code",
   "execution_count": 2,
   "metadata": {
    "collapsed": true
   },
   "outputs": [],
   "source": [
    "TRAIN_FILE = 'data/train-he-pron-wiktionary.txt'\n",
    "TEST_FILE = 'data/test-he-pron-wiktionary.txt'"
   ]
  },
  {
   "cell_type": "code",
   "execution_count": 3,
   "metadata": {
    "collapsed": true
   },
   "outputs": [],
   "source": [
    "from lib.utils import Alphabet\n",
    "\n",
    "\n",
    "he = Alphabet()\n",
    "en = Alphabet()"
   ]
  },
  {
   "cell_type": "code",
   "execution_count": 4,
   "metadata": {
    "collapsed": false
   },
   "outputs": [],
   "source": [
    "from lib.utils import load_pair_dataset\n",
    "\n",
    "X, Y = load_pair_dataset(TRAIN_FILE, he, en)"
   ]
  },
  {
   "cell_type": "code",
   "execution_count": 5,
   "metadata": {
    "collapsed": true
   },
   "outputs": [],
   "source": [
    "from sklearn.model_selection import train_test_split\n",
    "\n",
    "train_X, val_single_X, train_Y, val_single_Y = train_test_split(X, Y, test_size=0.8, random_state=42)\n",
    "val_X, single_X, val_Y, single_Y = train_test_split(val_single_X, val_single_Y, test_size=0.85, random_state=42)"
   ]
  },
  {
   "cell_type": "code",
   "execution_count": 6,
   "metadata": {
    "collapsed": false
   },
   "outputs": [],
   "source": [
    "from lib.models import SimpleGRUSupervisedSeq2Seq\n",
    "\n",
    "he_gen_model = SimpleGRUSupervisedSeq2Seq(he, en, 65, 256)\n",
    "en_gen_model = SimpleGRUSupervisedSeq2Seq(en, he, 65, 256)\n",
    "he_gen_opt = optim.Adam(he_gen_model.parameters(), lr=1e-3)\n",
    "en_gen_opt = optim.Adam(en_gen_model.parameters(), lr=1e-3)"
   ]
  },
  {
   "cell_type": "code",
   "execution_count": 47,
   "metadata": {
    "collapsed": true
   },
   "outputs": [],
   "source": [
    "val_src_words = [he.index2letter(x, with_start_end=False) for x in val_X]\n",
    "val_trg_words = [en.index2letter(y, with_start_end=False) for y in val_Y]"
   ]
  },
  {
   "cell_type": "code",
   "execution_count": 7,
   "metadata": {
    "collapsed": false
   },
   "outputs": [],
   "source": [
    "HE_GENERATOR_CHECKPOINTS = './checkpoints/he_generators_checkpoints'\n",
    "EN_GENERATOR_CHECKPOINTS = './checkpoints/en_generators_checkpoints'\n",
    "\n",
    "! mkdir -p {HE_GENERATOR_CHECKPOINTS} {EN_GENERATOR_CHECKPOINTS}"
   ]
  },
  {
   "cell_type": "code",
   "execution_count": 49,
   "metadata": {
    "collapsed": false
   },
   "outputs": [
    {
     "ename": "KeyboardInterrupt",
     "evalue": "",
     "output_type": "error",
     "traceback": [
      "\u001b[0;31m---------------------------------------------------------------------------\u001b[0m",
      "\u001b[0;31mKeyboardInterrupt\u001b[0m                         Traceback (most recent call last)",
      "\u001b[0;32m<ipython-input-49-c182f2141c78>\u001b[0m in \u001b[0;36m<module>\u001b[0;34m()\u001b[0m\n\u001b[1;32m      9\u001b[0m     \u001b[0mval_src_words\u001b[0m\u001b[0;34m,\u001b[0m \u001b[0mval_trg_words\u001b[0m\u001b[0;34m,\u001b[0m\u001b[0;34m\u001b[0m\u001b[0m\n\u001b[1;32m     10\u001b[0m     \u001b[0mcheckpoints_folder\u001b[0m\u001b[0;34m=\u001b[0m\u001b[0mHE_GENERATOR_CHECKPOINTS\u001b[0m\u001b[0;34m,\u001b[0m\u001b[0;34m\u001b[0m\u001b[0m\n\u001b[0;32m---> 11\u001b[0;31m     \u001b[0mmetrics_compute_freq\u001b[0m\u001b[0;34m=\u001b[0m\u001b[0;36m5\u001b[0m\u001b[0;34m,\u001b[0m \u001b[0mn_epochs\u001b[0m\u001b[0;34m=\u001b[0m\u001b[0;36m30\u001b[0m\u001b[0;34m\u001b[0m\u001b[0m\n\u001b[0m\u001b[1;32m     12\u001b[0m )\n",
      "\u001b[0;32m/home/yury/diploma/lib/trainer/single_generator_llh_trainer.py\u001b[0m in \u001b[0;36mtrain_generator\u001b[0;34m(model, opt, alph_Y, train_X, train_Y, val_src_words, val_trg_words, checkpoints_folder, metrics_compute_freq, n_epochs)\u001b[0m\n\u001b[1;32m     23\u001b[0m             \u001b[0mloss\u001b[0m \u001b[0;34m=\u001b[0m \u001b[0mcross_entropy\u001b[0m\u001b[0;34m(\u001b[0m\u001b[0mlog_predictions\u001b[0m\u001b[0;34m,\u001b[0m \u001b[0mtargets\u001b[0m\u001b[0;34m[\u001b[0m\u001b[0;34m:\u001b[0m\u001b[0;34m,\u001b[0m \u001b[0;36m1\u001b[0m\u001b[0;34m:\u001b[0m\u001b[0;34m]\u001b[0m\u001b[0;34m.\u001b[0m\u001b[0mcontiguous\u001b[0m\u001b[0;34m(\u001b[0m\u001b[0;34m)\u001b[0m\u001b[0;34m,\u001b[0m \u001b[0malph_Y\u001b[0m\u001b[0;34m)\u001b[0m\u001b[0;34m\u001b[0m\u001b[0m\n\u001b[1;32m     24\u001b[0m             \u001b[0;31m# print(loss.data, log_predictions.data.min())\u001b[0m\u001b[0;34m\u001b[0m\u001b[0;34m\u001b[0m\u001b[0m\n\u001b[0;32m---> 25\u001b[0;31m             \u001b[0mloss\u001b[0m\u001b[0;34m.\u001b[0m\u001b[0mbackward\u001b[0m\u001b[0;34m(\u001b[0m\u001b[0;34m)\u001b[0m\u001b[0;34m\u001b[0m\u001b[0m\n\u001b[0m\u001b[1;32m     26\u001b[0m             \u001b[0mcur_loss\u001b[0m \u001b[0;34m=\u001b[0m \u001b[0;36m0.9\u001b[0m \u001b[0;34m*\u001b[0m \u001b[0mcur_loss\u001b[0m \u001b[0;34m+\u001b[0m \u001b[0;36m0.1\u001b[0m \u001b[0;34m*\u001b[0m \u001b[0mloss\u001b[0m\u001b[0;34m.\u001b[0m\u001b[0mdata\u001b[0m\u001b[0;34m[\u001b[0m\u001b[0;36m0\u001b[0m\u001b[0;34m]\u001b[0m\u001b[0;34m\u001b[0m\u001b[0m\n\u001b[1;32m     27\u001b[0m             \u001b[0mopt\u001b[0m\u001b[0;34m.\u001b[0m\u001b[0mstep\u001b[0m\u001b[0;34m(\u001b[0m\u001b[0;34m)\u001b[0m\u001b[0;34m\u001b[0m\u001b[0m\n",
      "\u001b[0;32m/home/yury/anaconda3/lib/python3.5/site-packages/torch/autograd/variable.py\u001b[0m in \u001b[0;36mbackward\u001b[0;34m(self, gradient, retain_graph, create_graph, retain_variables)\u001b[0m\n\u001b[1;32m    165\u001b[0m                 \u001b[0mVariable\u001b[0m\u001b[0;34m.\u001b[0m\u001b[0;34m\u001b[0m\u001b[0m\n\u001b[1;32m    166\u001b[0m         \"\"\"\n\u001b[0;32m--> 167\u001b[0;31m         \u001b[0mtorch\u001b[0m\u001b[0;34m.\u001b[0m\u001b[0mautograd\u001b[0m\u001b[0;34m.\u001b[0m\u001b[0mbackward\u001b[0m\u001b[0;34m(\u001b[0m\u001b[0mself\u001b[0m\u001b[0;34m,\u001b[0m \u001b[0mgradient\u001b[0m\u001b[0;34m,\u001b[0m \u001b[0mretain_graph\u001b[0m\u001b[0;34m,\u001b[0m \u001b[0mcreate_graph\u001b[0m\u001b[0;34m,\u001b[0m \u001b[0mretain_variables\u001b[0m\u001b[0;34m)\u001b[0m\u001b[0;34m\u001b[0m\u001b[0m\n\u001b[0m\u001b[1;32m    168\u001b[0m \u001b[0;34m\u001b[0m\u001b[0m\n\u001b[1;32m    169\u001b[0m     \u001b[0;32mdef\u001b[0m \u001b[0mregister_hook\u001b[0m\u001b[0;34m(\u001b[0m\u001b[0mself\u001b[0m\u001b[0;34m,\u001b[0m \u001b[0mhook\u001b[0m\u001b[0;34m)\u001b[0m\u001b[0;34m:\u001b[0m\u001b[0;34m\u001b[0m\u001b[0m\n",
      "\u001b[0;32m/home/yury/anaconda3/lib/python3.5/site-packages/torch/autograd/__init__.py\u001b[0m in \u001b[0;36mbackward\u001b[0;34m(variables, grad_variables, retain_graph, create_graph, retain_variables)\u001b[0m\n\u001b[1;32m     97\u001b[0m \u001b[0;34m\u001b[0m\u001b[0m\n\u001b[1;32m     98\u001b[0m     Variable._execution_engine.run_backward(\n\u001b[0;32m---> 99\u001b[0;31m         variables, grad_variables, retain_graph)\n\u001b[0m\u001b[1;32m    100\u001b[0m \u001b[0;34m\u001b[0m\u001b[0m\n\u001b[1;32m    101\u001b[0m \u001b[0;34m\u001b[0m\u001b[0m\n",
      "\u001b[0;31mKeyboardInterrupt\u001b[0m: "
     ]
    }
   ],
   "source": [
    "%load_ext autoreload\n",
    "%autoreload 2\n",
    "\n",
    "from lib.trainer import train_generator\n",
    "\n",
    "train_generator(\n",
    "    he_gen_model, he_gen_opt, en, \n",
    "    train_X, train_Y, \n",
    "    val_src_words, val_trg_words, \n",
    "    checkpoints_folder=HE_GENERATOR_CHECKPOINTS, \n",
    "    metrics_compute_freq=5, n_epochs=30\n",
    ")"
   ]
  },
  {
   "cell_type": "code",
   "execution_count": 12,
   "metadata": {
    "collapsed": false
   },
   "outputs": [
    {
     "name": "stdout",
     "output_type": "stream",
     "text": [
      "epoch: 0 iter: 4 loss: 1.0221201269555094\n",
      "epoch: 0 iter: 9 loss: 1.542006659432749\n",
      "epoch: 0 iter: 14 loss: 1.7994971765463932\n",
      "epoch: 0 iter: 19 loss: 1.9018823672941463\n",
      "epoch: 0 iter: 24 loss: 1.9349514036341193\n",
      "epoch: 0 iter: 29 loss: 1.935029066656149\n"
     ]
    },
    {
     "name": "stderr",
     "output_type": "stream",
     "text": [
      "/home/yury/anaconda3/lib/python3.5/site-packages/nltk/translate/bleu_score.py:472: UserWarning: \n",
      "Corpus/Sentence contains 0 counts of 4-gram overlaps.\n",
      "BLEU scores might be undesirable; use SmoothingFunction().\n",
      "  warnings.warn(_msg)\n",
      "/home/yury/anaconda3/lib/python3.5/site-packages/nltk/translate/bleu_score.py:472: UserWarning: \n",
      "Corpus/Sentence contains 0 counts of 2-gram overlaps.\n",
      "BLEU scores might be undesirable; use SmoothingFunction().\n",
      "  warnings.warn(_msg)\n",
      "/home/yury/anaconda3/lib/python3.5/site-packages/nltk/translate/bleu_score.py:472: UserWarning: \n",
      "Corpus/Sentence contains 0 counts of 3-gram overlaps.\n",
      "BLEU scores might be undesirable; use SmoothingFunction().\n",
      "  warnings.warn(_msg)\n"
     ]
    },
    {
     "name": "stdout",
     "output_type": "stream",
     "text": [
      "\n",
      "epoch: 0 val_score: 0.5316933730302896 time: 23.15217638015747\n",
      "epoch: 1 iter: 4 loss: 1.8257912569714356\n",
      "epoch: 1 iter: 9 loss: 1.7232718833424587\n",
      "epoch: 1 iter: 14 loss: 1.698344552062926\n",
      "epoch: 1 iter: 19 loss: 1.6016687208383211\n",
      "epoch: 1 iter: 24 loss: 1.4975072693713618\n",
      "epoch: 1 iter: 29 loss: 1.4532978820646223\n",
      "\n",
      "epoch: 1 val_score: 0.5386251118060478 time: 24.224265813827515\n",
      "epoch: 2 iter: 4 loss: 1.3686532765515973\n",
      "epoch: 2 iter: 9 loss: 1.2992207131861806\n",
      "epoch: 2 iter: 14 loss: 1.1759098039516336\n",
      "epoch: 2 iter: 19 loss: 1.146051263419111\n",
      "epoch: 2 iter: 24 loss: 1.1303204772960804\n",
      "epoch: 2 iter: 29 loss: 1.0650707889434048\n",
      "\n",
      "epoch: 2 val_score: 0.5714936906355055 time: 23.54473304748535\n",
      "epoch: 3 iter: 4 loss: 0.981791930525283\n",
      "epoch: 3 iter: 9 loss: 0.9548921381439499\n",
      "epoch: 3 iter: 14 loss: 0.921052612331801\n",
      "epoch: 3 iter: 19 loss: 0.9021065417489034\n",
      "epoch: 3 iter: 24 loss: 0.8973082271564714\n",
      "epoch: 3 iter: 29 loss: 0.8874920415220401\n",
      "\n",
      "epoch: 3 val_score: 0.565961733246865 time: 26.68097448348999\n",
      "epoch: 4 iter: 4 loss: 0.8497686673701582\n",
      "epoch: 4 iter: 9 loss: 0.7968521347434635\n",
      "epoch: 4 iter: 14 loss: 0.7991559896709486\n",
      "epoch: 4 iter: 19 loss: 0.7587406606107694\n",
      "epoch: 4 iter: 24 loss: 0.7491479333648242\n",
      "epoch: 4 iter: 29 loss: 0.6814004854434176\n",
      "\n",
      "epoch: 4 val_score: 0.589568300749487 time: 31.150017499923706\n",
      "epoch: 5 iter: 4 loss: 0.6485351323534794\n",
      "epoch: 5 iter: 9 loss: 0.6085199668251556\n",
      "epoch: 5 iter: 14 loss: 0.6209095434128243\n",
      "epoch: 5 iter: 19 loss: 0.6260659438195172\n",
      "epoch: 5 iter: 24 loss: 0.5996065133016979\n",
      "epoch: 5 iter: 29 loss: 0.6137108679526704\n",
      "\n",
      "epoch: 5 val_score: 0.5989519351294734 time: 22.028493404388428\n",
      "epoch: 6 iter: 4 loss: 0.6060748767966856\n",
      "epoch: 6 iter: 9 loss: 0.5873516462982779\n",
      "epoch: 6 iter: 14 loss: 0.5388050850299978\n",
      "epoch: 6 iter: 19 loss: 0.5361867660163229\n",
      "epoch: 6 iter: 24 loss: 0.5350343965848334\n",
      "epoch: 6 iter: 29 loss: 0.5348782446407552\n",
      "\n",
      "epoch: 6 val_score: 0.6009347673447628 time: 22.150049924850464\n",
      "epoch: 7 iter: 4 loss: 0.4949518833149266\n",
      "epoch: 7 iter: 9 loss: 0.49019756998779834\n",
      "epoch: 7 iter: 14 loss: 0.4907658565959144\n",
      "epoch: 7 iter: 19 loss: 0.48907107012709466\n",
      "epoch: 7 iter: 24 loss: 0.4814073712832882\n",
      "epoch: 7 iter: 29 loss: 0.4793154437460614\n",
      "\n",
      "epoch: 7 val_score: 0.6014666189699815 time: 21.840209484100342\n",
      "epoch: 8 iter: 4 loss: 0.45905900560440316\n",
      "epoch: 8 iter: 9 loss: 0.4555535680675754\n",
      "epoch: 8 iter: 14 loss: 0.46198119783033464\n",
      "epoch: 8 iter: 19 loss: 0.46070258598459374\n",
      "epoch: 8 iter: 24 loss: 0.4619907484719446\n",
      "epoch: 8 iter: 29 loss: 0.45401332273548384\n",
      "\n",
      "epoch: 8 val_score: 0.6219622877812455 time: 22.533807516098022\n",
      "epoch: 9 iter: 4 loss: 0.44032422855463893\n",
      "epoch: 9 iter: 9 loss: 0.4390127033684316\n",
      "epoch: 9 iter: 14 loss: 0.4251153804581267\n",
      "epoch: 9 iter: 19 loss: 0.41194794369656007\n",
      "epoch: 9 iter: 24 loss: 0.4020601264607931\n",
      "epoch: 9 iter: 29 loss: 0.40853375569482264\n",
      "\n",
      "epoch: 9 val_score: 0.6055993348886657 time: 22.41551947593689\n",
      "epoch: 10 iter: 4 loss: 0.38801994327713946\n",
      "epoch: 10 iter: 9 loss: 0.37610560205671995\n",
      "epoch: 10 iter: 14 loss: 0.3550315910945676\n",
      "epoch: 10 iter: 19 loss: 0.363925485478495\n",
      "epoch: 10 iter: 24 loss: 0.36768442412989627\n",
      "epoch: 10 iter: 29 loss: 0.36247756883620014\n",
      "\n",
      "epoch: 10 val_score: 0.6209702158327368 time: 23.204325675964355\n",
      "epoch: 11 iter: 4 loss: 0.35708012230603037\n",
      "epoch: 11 iter: 9 loss: 0.3451929938546224\n",
      "epoch: 11 iter: 14 loss: 0.33696500586129097\n",
      "epoch: 11 iter: 19 loss: 0.3239047211545667\n",
      "epoch: 11 iter: 24 loss: 0.3133324695072218\n",
      "epoch: 11 iter: 29 loss: 0.33253997225519694\n",
      "\n",
      "epoch: 11 val_score: 0.6254828589996099 time: 22.587013959884644\n",
      "epoch: 12 iter: 4 loss: 0.315717522198683\n",
      "epoch: 12 iter: 9 loss: 0.3036209937399594\n",
      "epoch: 12 iter: 14 loss: 0.3060917195938219\n",
      "epoch: 12 iter: 19 loss: 0.3000335355416885\n",
      "epoch: 12 iter: 24 loss: 0.3109076722498458\n",
      "epoch: 12 iter: 29 loss: 0.31603978453587034\n",
      "\n",
      "epoch: 12 val_score: 0.6235605816254649 time: 22.247851133346558\n",
      "epoch: 13 iter: 4 loss: 0.3097083081560137\n",
      "epoch: 13 iter: 9 loss: 0.3002121115417574\n",
      "epoch: 13 iter: 14 loss: 0.28870756231790423\n",
      "epoch: 13 iter: 19 loss: 0.30417604459534503\n",
      "epoch: 13 iter: 24 loss: 0.2909347192405524\n",
      "epoch: 13 iter: 29 loss: 0.2989170247805067\n",
      "\n",
      "epoch: 13 val_score: 0.6208191120350449 time: 23.166896104812622\n",
      "epoch: 14 iter: 4 loss: 0.2792013869514958\n",
      "epoch: 14 iter: 9 loss: 0.27245888452353934\n",
      "epoch: 14 iter: 14 loss: 0.26584445441826576\n",
      "epoch: 14 iter: 19 loss: 0.26972947198560315\n",
      "epoch: 14 iter: 24 loss: 0.28777628396277244\n",
      "epoch: 14 iter: 29 loss: 0.29092747846659167\n",
      "\n",
      "epoch: 14 val_score: 0.6267296899006397 time: 22.73284673690796\n",
      "epoch: 15 iter: 4 loss: 0.27537320470183885\n",
      "epoch: 15 iter: 9 loss: 0.2804077054764997\n",
      "epoch: 15 iter: 14 loss: 0.2693807288955288\n",
      "epoch: 15 iter: 19 loss: 0.26417314023760974\n",
      "epoch: 15 iter: 24 loss: 0.2664235818506113\n",
      "epoch: 15 iter: 29 loss: 0.2846287320711682\n",
      "\n",
      "epoch: 15 val_score: 0.628917741623216 time: 22.99965000152588\n",
      "epoch: 16 iter: 4 loss: 0.2843406255587804\n",
      "epoch: 16 iter: 9 loss: 0.30121601176258805\n",
      "epoch: 16 iter: 14 loss: 0.3224187525293096\n",
      "epoch: 16 iter: 19 loss: 0.3190693244384706\n",
      "epoch: 16 iter: 24 loss: 0.3126722491028301\n",
      "epoch: 16 iter: 29 loss: 0.28860631207659554\n",
      "\n",
      "epoch: 16 val_score: 0.6076410083227903 time: 22.753096342086792\n",
      "epoch: 17 iter: 4 loss: 0.281361352618837\n",
      "epoch: 17 iter: 9 loss: 0.2633161381746979\n",
      "epoch: 17 iter: 14 loss: 0.25877127497060187\n",
      "epoch: 17 iter: 19 loss: 0.25832762972624174\n",
      "epoch: 17 iter: 24 loss: 0.2544675090248091\n",
      "epoch: 17 iter: 29 loss: 0.28015331404770005\n",
      "\n",
      "epoch: 17 val_score: 0.6250507529044015 time: 22.76477837562561\n",
      "epoch: 18 iter: 4 loss: 0.25770979738206284\n",
      "epoch: 18 iter: 9 loss: 0.2516456274863034\n",
      "epoch: 18 iter: 14 loss: 0.22742191093021255\n",
      "epoch: 18 iter: 19 loss: 0.23165874695276914\n",
      "epoch: 18 iter: 24 loss: 0.2279234983795887\n",
      "epoch: 18 iter: 29 loss: 0.22851040729226849\n",
      "\n",
      "epoch: 18 val_score: 0.6359508462901381 time: 23.062299728393555\n",
      "epoch: 19 iter: 4 loss: 0.2217889380783294\n",
      "epoch: 19 iter: 9 loss: 0.2069213248988102\n",
      "epoch: 19 iter: 14 loss: 0.21294739424828074\n",
      "epoch: 19 iter: 19 loss: 0.20731164978165054\n",
      "epoch: 19 iter: 24 loss: 0.19902297118651308\n",
      "epoch: 19 iter: 29 loss: 0.21475224553934805\n",
      "\n",
      "epoch: 19 val_score: 0.6327313106837503 time: 22.56349515914917\n",
      "epoch: 20 iter: 4 loss: 0.19342003729700233\n",
      "epoch: 20 iter: 9 loss: 0.1871450596526924\n",
      "epoch: 20 iter: 14 loss: 0.18567446888867464\n",
      "epoch: 20 iter: 19 loss: 0.1881515616932185\n",
      "epoch: 20 iter: 24 loss: 0.18642352103443424\n",
      "epoch: 20 iter: 29 loss: 0.19738579128203002\n",
      "\n",
      "epoch: 20 val_score: 0.6336102527739768 time: 23.035499334335327\n",
      "epoch: 21 iter: 4 loss: 0.19333724604839525\n",
      "epoch: 21 iter: 9 loss: 0.17985765343430493\n",
      "epoch: 21 iter: 14 loss: 0.17677667469793748\n",
      "epoch: 21 iter: 19 loss: 0.17523889534400477\n",
      "epoch: 21 iter: 24 loss: 0.1787253386399857\n",
      "epoch: 21 iter: 29 loss: 0.1850695395055865\n",
      "\n",
      "epoch: 21 val_score: 0.6354041261668166 time: 23.05648684501648\n",
      "epoch: 22 iter: 4 loss: 0.17108149489185462\n",
      "epoch: 22 iter: 9 loss: 0.17205858626293288\n",
      "epoch: 22 iter: 14 loss: 0.17182678474598329\n",
      "epoch: 22 iter: 19 loss: 0.17292046837070246\n",
      "epoch: 22 iter: 24 loss: 0.1764769124353202\n",
      "epoch: 22 iter: 29 loss: 0.1747681487170785\n",
      "\n",
      "epoch: 22 val_score: 0.6395407267163898 time: 23.72640633583069\n",
      "epoch: 23 iter: 4 loss: 0.1675465538433471\n",
      "epoch: 23 iter: 9 loss: 0.15778023895991608\n",
      "epoch: 23 iter: 14 loss: 0.15915689301103\n",
      "epoch: 23 iter: 19 loss: 0.1666148518293717\n",
      "epoch: 23 iter: 24 loss: 0.16467569090041637\n",
      "epoch: 23 iter: 29 loss: 0.1608528117176108\n",
      "\n",
      "epoch: 23 val_score: 0.6368085641215174 time: 23.697842359542847\n",
      "epoch: 24 iter: 4 loss: 0.15691872201763857\n",
      "epoch: 24 iter: 9 loss: 0.1589713489457618\n",
      "epoch: 24 iter: 14 loss: 0.1591308622346433\n",
      "epoch: 24 iter: 19 loss: 0.1590030754258843\n",
      "epoch: 24 iter: 24 loss: 0.15246267484983203\n",
      "epoch: 24 iter: 29 loss: 0.1546580453949436\n",
      "\n",
      "epoch: 24 val_score: 0.6374478610768569 time: 23.221307039260864\n",
      "epoch: 25 iter: 4 loss: 0.1474886811385902\n",
      "epoch: 25 iter: 9 loss: 0.13818354281506412\n",
      "epoch: 25 iter: 14 loss: 0.15279994208329226\n",
      "epoch: 25 iter: 19 loss: 0.15950862077163874\n",
      "epoch: 25 iter: 24 loss: 0.15661969496441913\n",
      "epoch: 25 iter: 29 loss: 0.1543028400677261\n",
      "\n",
      "epoch: 25 val_score: 0.6266974797025445 time: 22.638633966445923\n",
      "epoch: 26 iter: 4 loss: 0.1518906438329236\n",
      "epoch: 26 iter: 9 loss: 0.1461905502924984\n",
      "epoch: 26 iter: 14 loss: 0.14579747433309664\n",
      "epoch: 26 iter: 19 loss: 0.14782518653708468\n",
      "epoch: 26 iter: 24 loss: 0.15525070756599824\n",
      "epoch: 26 iter: 29 loss: 0.15480342594332222\n",
      "\n",
      "epoch: 26 val_score: 0.6345613116310928 time: 23.453001260757446\n",
      "epoch: 27 iter: 4 loss: 0.14081655289607165\n",
      "epoch: 27 iter: 9 loss: 0.1408758405439244\n",
      "epoch: 27 iter: 14 loss: 0.1468694502616674\n",
      "epoch: 27 iter: 19 loss: 0.14894858552154006\n",
      "epoch: 27 iter: 24 loss: 0.15229364322584213\n",
      "epoch: 27 iter: 29 loss: 0.15616434693594577\n",
      "\n",
      "epoch: 27 val_score: 0.6392502730160986 time: 23.00428819656372\n",
      "epoch: 28 iter: 4 loss: 0.1564569626939262\n",
      "epoch: 28 iter: 9 loss: 0.1423101142622589\n",
      "epoch: 28 iter: 14 loss: 0.14759464177537887\n",
      "epoch: 28 iter: 19 loss: 0.1436882881534523\n",
      "epoch: 28 iter: 24 loss: 0.1414739280063665\n",
      "epoch: 28 iter: 29 loss: 0.1461520404294863\n",
      "\n",
      "epoch: 28 val_score: 0.643515051192157 time: 23.882944345474243\n",
      "epoch: 29 iter: 4 loss: 0.14632990686502287\n",
      "epoch: 29 iter: 9 loss: 0.1484439878025561\n",
      "epoch: 29 iter: 14 loss: 0.14752168369093066\n",
      "epoch: 29 iter: 19 loss: 0.1354261942940743\n",
      "epoch: 29 iter: 24 loss: 0.13759477593628897\n",
      "epoch: 29 iter: 29 loss: 0.14783789515910745\n",
      "\n",
      "epoch: 29 val_score: 0.6354445620661606 time: 22.848297357559204\n"
     ]
    }
   ],
   "source": [
    "train_generator(\n",
    "    en_gen_model, en_gen_opt, he, \n",
    "    train_Y, train_X, \n",
    "    val_trg_words, val_src_words, \n",
    "    checkpoints_folder=EN_GENERATOR_CHECKPOINTS, \n",
    "    metrics_compute_freq=5, n_epochs=30\n",
    ")"
   ]
  },
  {
   "cell_type": "code",
   "execution_count": 8,
   "metadata": {
    "collapsed": false
   },
   "outputs": [],
   "source": [
    "import os\n",
    "\n",
    "best_score_he_model = \"state_dict_11_0.8800413397572596.pth\"\n",
    "best_score_en_model = \"state_dict_28_0.643515051192157.pth\"\n",
    "\n",
    "he_gen_model.load_state_dict(torch.load(os.path.join(HE_GENERATOR_CHECKPOINTS, best_score_he_model)))\n",
    "en_gen_model.load_state_dict(torch.load(os.path.join(EN_GENERATOR_CHECKPOINTS, best_score_en_model)))"
   ]
  },
  {
   "cell_type": "code",
   "execution_count": 51,
   "metadata": {
    "collapsed": false
   },
   "outputs": [
    {
     "data": {
      "text/plain": [
       "'ni tsari kham nim yamim'"
      ]
     },
     "execution_count": 51,
     "metadata": {},
     "output_type": "execute_result"
    }
   ],
   "source": [
    "he_gen_model.translate(\"אני צריך להזמין מונית \", with_start_end=False)"
   ]
  },
  {
   "cell_type": "code",
   "execution_count": 52,
   "metadata": {
    "collapsed": false
   },
   "outputs": [
    {
     "data": {
      "text/plain": [
       "'עוֹבֵד'"
      ]
     },
     "execution_count": 52,
     "metadata": {},
     "output_type": "execute_result"
    }
   ],
   "source": [
    "en_gen_model.translate(\"oved\", with_start_end=False)"
   ]
  },
  {
   "cell_type": "code",
   "execution_count": null,
   "metadata": {
    "collapsed": false
   },
   "outputs": [],
   "source": [
    "from lib.metrics import compute_accuracy\n",
    "\n",
    "#compute_accuracy(model, val_src_words, val_trg_words)"
   ]
  },
  {
   "cell_type": "code",
   "execution_count": 32,
   "metadata": {
    "collapsed": false
   },
   "outputs": [
    {
     "name": "stderr",
     "output_type": "stream",
     "text": [
      "/home/yury/anaconda3/lib/python3.5/site-packages/nltk/translate/bleu_score.py:472: UserWarning: \n",
      "Corpus/Sentence contains 0 counts of 3-gram overlaps.\n",
      "BLEU scores might be undesirable; use SmoothingFunction().\n",
      "  warnings.warn(_msg)\n",
      "/home/yury/anaconda3/lib/python3.5/site-packages/nltk/translate/bleu_score.py:472: UserWarning: \n",
      "Corpus/Sentence contains 0 counts of 4-gram overlaps.\n",
      "BLEU scores might be undesirable; use SmoothingFunction().\n",
      "  warnings.warn(_msg)\n",
      "/home/yury/anaconda3/lib/python3.5/site-packages/nltk/translate/bleu_score.py:472: UserWarning: \n",
      "Corpus/Sentence contains 0 counts of 2-gram overlaps.\n",
      "BLEU scores might be undesirable; use SmoothingFunction().\n",
      "  warnings.warn(_msg)\n"
     ]
    },
    {
     "name": "stdout",
     "output_type": "stream",
     "text": [
      "\n",
      "he->en bleu: 0.756867651006124\n",
      "\n",
      "en->he bleu: 0.643515051192157\n"
     ]
    }
   ],
   "source": [
    "from lib.metrics import compute_bleu_score\n",
    "\n",
    "print(\"he->en bleu:\", compute_bleu_score(he_gen_model, val_src_words, val_trg_words))\n",
    "print(\"en->he bleu:\", compute_bleu_score(en_gen_model, val_trg_words, val_src_words))"
   ]
  },
  {
   "cell_type": "code",
   "execution_count": 11,
   "metadata": {
    "collapsed": false
   },
   "outputs": [],
   "source": [
    "from lib.models import BiLSTMDiscriminator\n",
    "\n",
    "he_en_disc = BiLSTMDiscriminator(en, 32, 128)\n",
    "he_en_disc_opt = optim.Adam(he_en_disc.parameters(), lr=1e-4)"
   ]
  },
  {
   "cell_type": "code",
   "execution_count": 11,
   "metadata": {
    "collapsed": true
   },
   "outputs": [],
   "source": [
    "from lib.utils import batch_iterator\n",
    "\n",
    "x, y = next(batch_iterator(single_X, single_Y))"
   ]
  },
  {
   "cell_type": "code",
   "execution_count": 70,
   "metadata": {
    "collapsed": false
   },
   "outputs": [
    {
     "data": {
      "text/plain": [
       "Variable containing:\n",
       "-0.6931\n",
       "[torch.FloatTensor of size 1]"
      ]
     },
     "execution_count": 70,
     "metadata": {},
     "output_type": "execute_result"
    }
   ],
   "source": [
    "a"
   ]
  },
  {
   "cell_type": "code",
   "execution_count": 17,
   "metadata": {
    "collapsed": false
   },
   "outputs": [
    {
     "name": "stdout",
     "output_type": "stream",
     "text": [
      "1.2384521961212158\n",
      "1.3718072175979614\n",
      "1.3718334436416626\n",
      "1.3148930072784424\n",
      "1.2624657154083252\n",
      "1.2915847301483154\n",
      "1.2727792263031006\n",
      "1.1567726135253906\n",
      "1.3493173122406006\n",
      "1.2651690244674683\n",
      "1.2297322319317114\n",
      "1.3737601041793823\n",
      "1.2953300476074219\n",
      "1.2669183015823364\n",
      "1.2240954637527466\n",
      "1.212420105934143\n",
      "1.289250135421753\n",
      "1.1618685722351074\n",
      "1.2122358083724976\n",
      "1.342937707901001\n",
      "1.3290832042694092\n",
      "1.234034298357258\n",
      "1.18357515335083\n",
      "1.2539525032043457\n",
      "1.2623798847198486\n",
      "1.2066926956176758\n",
      "1.382946252822876\n",
      "1.2576000690460205\n",
      "1.3047951459884644\n",
      "1.3303977251052856\n",
      "1.1666460037231445\n",
      "1.1743628978729248\n",
      "1.2420799208252453\n",
      "1.226090908050537\n",
      "1.3146021366119385\n",
      "1.3053488731384277\n",
      "1.2869923114776611\n",
      "1.1714167594909668\n",
      "1.2247607707977295\n",
      "1.2718067169189453\n",
      "1.2853238582611084\n",
      "1.2806005477905273\n",
      "1.2753772735595703\n",
      "1.2550788223872757\n",
      "1.132434368133545\n",
      "1.2214456796646118\n",
      "1.2251617908477783\n",
      "1.3123784065246582\n",
      "1.2538001537322998\n",
      "1.1897834539413452\n",
      "1.3106296062469482\n",
      "1.1576265096664429\n",
      "1.2624542713165283\n",
      "1.2995434999465942\n",
      "1.2640581729704323\n"
     ]
    }
   ],
   "source": [
    "from lib.trainer import train_discriminator\n",
    "\n",
    "\n",
    "train_discriminator(he_en_disc, he_gen_model, he_en_disc_opt, single_X, single_Y, n_epochs=5)"
   ]
  },
  {
   "cell_type": "code",
   "execution_count": 17,
   "metadata": {
    "collapsed": false
   },
   "outputs": [],
   "source": [
    "for g in en_he_disc_opt.param_groups:\n",
    "    g['lr'] = 1e-3"
   ]
  },
  {
   "cell_type": "code",
   "execution_count": 36,
   "metadata": {
    "collapsed": false
   },
   "outputs": [
    {
     "data": {
      "text/plain": [
       "3336"
      ]
     },
     "execution_count": 36,
     "metadata": {},
     "output_type": "execute_result"
    }
   ],
   "source": [
    "len(single_X)\n",
    "len(single_Y)"
   ]
  },
  {
   "cell_type": "code",
   "execution_count": 14,
   "metadata": {
    "collapsed": false
   },
   "outputs": [],
   "source": [
    "#torch.save(he_en_disc.state_dict(), 'checkpoints/he_en_disc.pth')"
   ]
  },
  {
   "cell_type": "code",
   "execution_count": 15,
   "metadata": {
    "collapsed": false
   },
   "outputs": [],
   "source": [
    "en_he_disc = BiLSTMDiscriminator(he, 32, 128)\n",
    "en_he_disc_opt = optim.Adam(en_he_disc.parameters(), lr=1e-4)"
   ]
  },
  {
   "cell_type": "code",
   "execution_count": 21,
   "metadata": {
    "collapsed": false
   },
   "outputs": [
    {
     "name": "stdout",
     "output_type": "stream",
     "text": [
      "The autoreload extension is already loaded. To reload it, use:\n",
      "  %reload_ext autoreload\n",
      "0.2804229259490967\n",
      "0.3591843247413635\n",
      "0.5119056701660156\n",
      "0.38617441058158875\n",
      "0.4110684096813202\n",
      "0.4386439323425293\n",
      "0.3661508560180664\n",
      "0.41029417514801025\n",
      "0.19577345252037048\n",
      "0.35182929039001465\n",
      "0.43271239670753664\n",
      "0.5297037959098816\n",
      "0.5909342765808105\n",
      "0.47149455547332764\n",
      "0.4378165006637573\n",
      "0.42431938648223877\n",
      "0.32680660486221313\n",
      "0.39451146125793457\n",
      "0.23801937699317932\n",
      "0.5421937108039856\n",
      "0.19427376985549927\n",
      "0.36238883628009205\n",
      "0.23387694358825684\n",
      "0.440614253282547\n",
      "0.5886380672454834\n",
      "0.41957834362983704\n",
      "0.27277401089668274\n",
      "0.5400180220603943\n",
      "0.5062800645828247\n",
      "0.5183104872703552\n",
      "0.4915462136268616\n",
      "0.3166813850402832\n",
      "0.3975979069490849\n",
      "0.3233836889266968\n",
      "0.19026336073875427\n",
      "0.19132040441036224\n",
      "0.2645258903503418\n",
      "0.3994094133377075\n",
      "0.5878828763961792\n",
      "0.20943179726600647\n",
      "0.21955306828022003\n",
      "0.3330232799053192\n",
      "0.6479833126068115\n",
      "0.40701333767769265\n",
      "0.29019033908843994\n",
      "0.697598934173584\n",
      "0.6357625722885132\n",
      "0.41296684741973877\n",
      "0.4379768967628479\n",
      "0.3651805520057678\n",
      "0.5896450281143188\n",
      "0.44752180576324463\n",
      "0.6370954513549805\n",
      "0.5919908285140991\n",
      "0.34219063559383106\n"
     ]
    }
   ],
   "source": [
    "%load_ext autoreload\n",
    "%autoreload 2\n",
    "\n",
    "from lib.trainer import train_discriminator\n",
    "\n",
    "\n",
    "train_discriminator(en_he_disc, en_gen_model, en_he_disc_opt, single_Y, single_X, n_epochs=5)"
   ]
  },
  {
   "cell_type": "code",
   "execution_count": null,
   "metadata": {
    "collapsed": true
   },
   "outputs": [],
   "source": []
  }
 ],
 "metadata": {
  "anaconda-cloud": {},
  "kernelspec": {
   "display_name": "Python [conda env:anaconda3]",
   "language": "python",
   "name": "conda-env-anaconda3-py"
  },
  "language_info": {
   "codemirror_mode": {
    "name": "ipython",
    "version": 3
   },
   "file_extension": ".py",
   "mimetype": "text/x-python",
   "name": "python",
   "nbconvert_exporter": "python",
   "pygments_lexer": "ipython3",
   "version": "3.5.2"
  },
  "widgets": {
   "state": {
    "00eab467bd3749508010e095ae6096c4": {
     "views": [
      {
       "cell_index": 10
      }
     ]
    },
    "0bf6745b24144b48b75f238647ecf497": {
     "views": [
      {
       "cell_index": 10
      }
     ]
    },
    "1051a21e68c24645b7fe17664bf93024": {
     "views": [
      {
       "cell_index": 10
      }
     ]
    },
    "10b8b1867efc4dbc8313fee4d95bb633": {
     "views": [
      {
       "cell_index": 9
      }
     ]
    },
    "11d61cfc4ea346a2b0be4dddaecbd99c": {
     "views": [
      {
       "cell_index": 10
      }
     ]
    },
    "1317693ff54541c48d274b4c41dec617": {
     "views": [
      {
       "cell_index": 10
      }
     ]
    },
    "197d14eec9174dae9a5fa25305132fdb": {
     "views": [
      {
       "cell_index": 9
      }
     ]
    },
    "1ed29cd21ab14ecaae6123f58ff06cf2": {
     "views": [
      {
       "cell_index": 10
      }
     ]
    },
    "20c92a7179a74f908a268144a5f758c4": {
     "views": [
      {
       "cell_index": 10
      }
     ]
    },
    "22db85f4404a4ecd939ba1b901452d8a": {
     "views": [
      {
       "cell_index": 9
      }
     ]
    },
    "22e4703cc2774134beb205610325731b": {
     "views": [
      {
       "cell_index": 9
      }
     ]
    },
    "25b0d7064d4d4317b93912fffaaf8e5b": {
     "views": [
      {
       "cell_index": 10
      }
     ]
    },
    "285b77a3b109481493cbfa1cdae0944a": {
     "views": [
      {
       "cell_index": 10
      }
     ]
    },
    "36d709e859774e83bd829bd9c1197d87": {
     "views": [
      {
       "cell_index": 9
      }
     ]
    },
    "3b653ce0ea6c42ac871465e919ab8f8f": {
     "views": [
      {
       "cell_index": 10
      }
     ]
    },
    "3caa962bfd1c4aa089bd203153a53957": {
     "views": [
      {
       "cell_index": 15
      }
     ]
    },
    "40e0ef72aeee47ada341c51518340351": {
     "views": [
      {
       "cell_index": 9
      }
     ]
    },
    "42a6ab4018084fdea0845baf9537e244": {
     "views": [
      {
       "cell_index": 10
      }
     ]
    },
    "4790f205cc6444e2a26be84db0f848c2": {
     "views": [
      {
       "cell_index": 9
      }
     ]
    },
    "497cd6f1cd674e8e869827666f0dbf4c": {
     "views": [
      {
       "cell_index": 10
      }
     ]
    },
    "4c865c5ef52e48ec875a9191ad175a58": {
     "views": [
      {
       "cell_index": 9
      }
     ]
    },
    "586a4104c1544ece801d3310c82219d7": {
     "views": [
      {
       "cell_index": 9
      }
     ]
    },
    "5e0f6ba1a03749139fc794739e9cd699": {
     "views": [
      {
       "cell_index": 10
      }
     ]
    },
    "674ab0c62e3d40279b2869c3cebfd76b": {
     "views": [
      {
       "cell_index": 9
      }
     ]
    },
    "7569b4d0a5eb411f97fe596c9300a923": {
     "views": [
      {
       "cell_index": 10
      }
     ]
    },
    "766d4462cb5542d08e38fe3ce4acfd2c": {
     "views": [
      {
       "cell_index": 10
      }
     ]
    },
    "79232109e2364402bb17187c1c3e64cb": {
     "views": [
      {
       "cell_index": 10
      }
     ]
    },
    "7b26133de8a24c809943f2c7023abb02": {
     "views": [
      {
       "cell_index": 10
      }
     ]
    },
    "7f50b608335e4040b0735622687f7748": {
     "views": [
      {
       "cell_index": 10
      }
     ]
    },
    "7f5dd643b9c944fba30c266971a64072": {
     "views": [
      {
       "cell_index": 15
      }
     ]
    },
    "820afb5595d14c8f81434f6847185623": {
     "views": [
      {
       "cell_index": 10
      }
     ]
    },
    "8ef6a8ae8640486992606f3a13f0ce0d": {
     "views": [
      {
       "cell_index": 10
      }
     ]
    },
    "9ddf307209564f86ad856f0ad338c6f1": {
     "views": [
      {
       "cell_index": 10
      }
     ]
    },
    "a162414439ef40b7ab58d31ad390c058": {
     "views": [
      {
       "cell_index": 10
      }
     ]
    },
    "a48cd4b32a914e2a8ad7cedb69480668": {
     "views": [
      {
       "cell_index": 10
      }
     ]
    },
    "a710178104e24034a0abc5d9904658b0": {
     "views": [
      {
       "cell_index": 15
      }
     ]
    },
    "aba5bea9ecd346609682636a5530c817": {
     "views": [
      {
       "cell_index": 15
      }
     ]
    },
    "bab4745bacd9483298d7608503f9a850": {
     "views": [
      {
       "cell_index": 10
      }
     ]
    },
    "c2f777656aad4e008ff4a1895fbc7399": {
     "views": [
      {
       "cell_index": 9
      }
     ]
    },
    "c9af049053d84c65abf48d90ff37a71b": {
     "views": [
      {
       "cell_index": 10
      }
     ]
    },
    "cbea37e1d7124a288c844236ec73378f": {
     "views": [
      {
       "cell_index": 9
      }
     ]
    },
    "dd53f135e2dc4789b6edd5034055866d": {
     "views": [
      {
       "cell_index": 9
      }
     ]
    },
    "e86817c642ed41eea676f58862161207": {
     "views": [
      {
       "cell_index": 9
      }
     ]
    },
    "eacb26d3dac740bfa1337f5ecd2e9e2f": {
     "views": [
      {
       "cell_index": 10
      }
     ]
    },
    "eeb341ec629346c585f955e3fb48a756": {
     "views": [
      {
       "cell_index": 9
      }
     ]
    },
    "f041bde0ee54425f89716705bab19513": {
     "views": [
      {
       "cell_index": 10
      }
     ]
    },
    "fa681c94e95f406ea1f003b8129c1461": {
     "views": [
      {
       "cell_index": 10
      }
     ]
    },
    "faf00499e95d4254b24d10b65ca7d7b5": {
     "views": [
      {
       "cell_index": 10
      }
     ]
    },
    "ffbec57e821e4a64a0e4268f7409c770": {
     "views": [
      {
       "cell_index": 10
      }
     ]
    }
   },
   "version": "1.2.0"
  }
 },
 "nbformat": 4,
 "nbformat_minor": 2
}
